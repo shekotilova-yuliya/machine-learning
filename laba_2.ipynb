{
 "cells": [
  {
   "cell_type": "markdown",
   "id": "9fe16c99",
   "metadata": {},
   "source": [
    "### Загружаем нужные библиотеки:"
   ]
  },
  {
   "cell_type": "code",
   "execution_count": 1,
   "id": "0c8d972d",
   "metadata": {},
   "outputs": [],
   "source": [
    "import numpy as np\n",
    "import matplotlib.pyplot as plt\n",
    "%matplotlib inline\n",
    "import pandas as pd\n",
    "import seaborn as sn\n",
    "import sklearn\n",
    "from sklearn.metrics import accuracy_score\n",
    "from sklearn.model_selection import train_test_split\n",
    "from sklearn.neural_network import MLPClassifier"
   ]
  },
  {
   "cell_type": "markdown",
   "id": "5cc982bb",
   "metadata": {},
   "source": [
    "### Загружаем обновленный датасет:"
   ]
  },
  {
   "cell_type": "code",
   "execution_count": 2,
   "id": "3bdc36f1",
   "metadata": {},
   "outputs": [],
   "source": [
    "data = pd.read_csv(\"BankCustomerData_updated.csv\")"
   ]
  },
  {
   "cell_type": "code",
   "execution_count": 3,
   "id": "4eb49dc2",
   "metadata": {},
   "outputs": [
    {
     "name": "stdout",
     "output_type": "stream",
     "text": [
      "       term_deposit\n",
      "0               0.0\n",
      "1               0.0\n",
      "2               0.0\n",
      "3               0.0\n",
      "4               0.0\n",
      "...             ...\n",
      "42206           1.0\n",
      "42207           1.0\n",
      "42208           0.0\n",
      "42209           1.0\n",
      "42210           0.0\n",
      "\n",
      "[42211 rows x 1 columns]\n"
     ]
    }
   ],
   "source": [
    "print(data[['term_deposit']])"
   ]
  },
  {
   "cell_type": "code",
   "execution_count": 4,
   "id": "617a879b",
   "metadata": {},
   "outputs": [
    {
     "data": {
      "text/html": [
       "<div>\n",
       "<style scoped>\n",
       "    .dataframe tbody tr th:only-of-type {\n",
       "        vertical-align: middle;\n",
       "    }\n",
       "\n",
       "    .dataframe tbody tr th {\n",
       "        vertical-align: top;\n",
       "    }\n",
       "\n",
       "    .dataframe thead th {\n",
       "        text-align: right;\n",
       "    }\n",
       "</style>\n",
       "<table border=\"1\" class=\"dataframe\">\n",
       "  <thead>\n",
       "    <tr style=\"text-align: right;\">\n",
       "      <th></th>\n",
       "      <th>Unnamed: 0</th>\n",
       "      <th>age</th>\n",
       "      <th>default</th>\n",
       "      <th>balance</th>\n",
       "      <th>housing</th>\n",
       "      <th>loan</th>\n",
       "      <th>day</th>\n",
       "      <th>duration</th>\n",
       "      <th>campaign</th>\n",
       "      <th>pdays</th>\n",
       "      <th>...</th>\n",
       "      <th>jun</th>\n",
       "      <th>mar</th>\n",
       "      <th>may</th>\n",
       "      <th>nov</th>\n",
       "      <th>oct</th>\n",
       "      <th>sep</th>\n",
       "      <th>failure</th>\n",
       "      <th>other</th>\n",
       "      <th>success</th>\n",
       "      <th>unknown</th>\n",
       "    </tr>\n",
       "  </thead>\n",
       "  <tbody>\n",
       "    <tr>\n",
       "      <th>count</th>\n",
       "      <td>42211.000000</td>\n",
       "      <td>42211.000000</td>\n",
       "      <td>42211.000000</td>\n",
       "      <td>42211.000000</td>\n",
       "      <td>42211.000000</td>\n",
       "      <td>42211.000000</td>\n",
       "      <td>42211.000000</td>\n",
       "      <td>42211.000000</td>\n",
       "      <td>42211.000000</td>\n",
       "      <td>42211.000000</td>\n",
       "      <td>...</td>\n",
       "      <td>42211.000000</td>\n",
       "      <td>42211.000000</td>\n",
       "      <td>42211.000000</td>\n",
       "      <td>42211.000000</td>\n",
       "      <td>42211.000000</td>\n",
       "      <td>42211.000000</td>\n",
       "      <td>42211.000000</td>\n",
       "      <td>42211.000000</td>\n",
       "      <td>42211.000000</td>\n",
       "      <td>42211.000000</td>\n",
       "    </tr>\n",
       "    <tr>\n",
       "      <th>mean</th>\n",
       "      <td>21323.068158</td>\n",
       "      <td>0.295544</td>\n",
       "      <td>0.017720</td>\n",
       "      <td>0.110740</td>\n",
       "      <td>0.576366</td>\n",
       "      <td>0.165407</td>\n",
       "      <td>0.494833</td>\n",
       "      <td>0.052079</td>\n",
       "      <td>0.029292</td>\n",
       "      <td>0.065688</td>\n",
       "      <td>...</td>\n",
       "      <td>0.119969</td>\n",
       "      <td>0.006088</td>\n",
       "      <td>0.317595</td>\n",
       "      <td>0.090664</td>\n",
       "      <td>0.012082</td>\n",
       "      <td>0.006610</td>\n",
       "      <td>0.100448</td>\n",
       "      <td>0.035678</td>\n",
       "      <td>0.018076</td>\n",
       "      <td>0.845798</td>\n",
       "    </tr>\n",
       "    <tr>\n",
       "      <th>std</th>\n",
       "      <td>12313.621881</td>\n",
       "      <td>0.132395</td>\n",
       "      <td>0.131935</td>\n",
       "      <td>0.113933</td>\n",
       "      <td>0.494140</td>\n",
       "      <td>0.371552</td>\n",
       "      <td>0.276437</td>\n",
       "      <td>0.052590</td>\n",
       "      <td>0.051036</td>\n",
       "      <td>0.171561</td>\n",
       "      <td>...</td>\n",
       "      <td>0.324929</td>\n",
       "      <td>0.077792</td>\n",
       "      <td>0.465546</td>\n",
       "      <td>0.287133</td>\n",
       "      <td>0.109254</td>\n",
       "      <td>0.081032</td>\n",
       "      <td>0.300600</td>\n",
       "      <td>0.185488</td>\n",
       "      <td>0.133227</td>\n",
       "      <td>0.361146</td>\n",
       "    </tr>\n",
       "    <tr>\n",
       "      <th>min</th>\n",
       "      <td>0.000000</td>\n",
       "      <td>0.000000</td>\n",
       "      <td>0.000000</td>\n",
       "      <td>0.000000</td>\n",
       "      <td>0.000000</td>\n",
       "      <td>0.000000</td>\n",
       "      <td>0.000000</td>\n",
       "      <td>0.000000</td>\n",
       "      <td>0.000000</td>\n",
       "      <td>0.000000</td>\n",
       "      <td>...</td>\n",
       "      <td>0.000000</td>\n",
       "      <td>0.000000</td>\n",
       "      <td>0.000000</td>\n",
       "      <td>0.000000</td>\n",
       "      <td>0.000000</td>\n",
       "      <td>0.000000</td>\n",
       "      <td>0.000000</td>\n",
       "      <td>0.000000</td>\n",
       "      <td>0.000000</td>\n",
       "      <td>0.000000</td>\n",
       "    </tr>\n",
       "    <tr>\n",
       "      <th>25%</th>\n",
       "      <td>10667.500000</td>\n",
       "      <td>0.194805</td>\n",
       "      <td>0.000000</td>\n",
       "      <td>0.050019</td>\n",
       "      <td>0.000000</td>\n",
       "      <td>0.000000</td>\n",
       "      <td>0.233333</td>\n",
       "      <td>0.020537</td>\n",
       "      <td>0.000000</td>\n",
       "      <td>0.000000</td>\n",
       "      <td>...</td>\n",
       "      <td>0.000000</td>\n",
       "      <td>0.000000</td>\n",
       "      <td>0.000000</td>\n",
       "      <td>0.000000</td>\n",
       "      <td>0.000000</td>\n",
       "      <td>0.000000</td>\n",
       "      <td>0.000000</td>\n",
       "      <td>0.000000</td>\n",
       "      <td>0.000000</td>\n",
       "      <td>1.000000</td>\n",
       "    </tr>\n",
       "    <tr>\n",
       "      <th>50%</th>\n",
       "      <td>21326.000000</td>\n",
       "      <td>0.272727</td>\n",
       "      <td>0.000000</td>\n",
       "      <td>0.069293</td>\n",
       "      <td>1.000000</td>\n",
       "      <td>0.000000</td>\n",
       "      <td>0.500000</td>\n",
       "      <td>0.035990</td>\n",
       "      <td>0.016129</td>\n",
       "      <td>0.000000</td>\n",
       "      <td>...</td>\n",
       "      <td>0.000000</td>\n",
       "      <td>0.000000</td>\n",
       "      <td>0.000000</td>\n",
       "      <td>0.000000</td>\n",
       "      <td>0.000000</td>\n",
       "      <td>0.000000</td>\n",
       "      <td>0.000000</td>\n",
       "      <td>0.000000</td>\n",
       "      <td>0.000000</td>\n",
       "      <td>1.000000</td>\n",
       "    </tr>\n",
       "    <tr>\n",
       "      <th>75%</th>\n",
       "      <td>31994.500000</td>\n",
       "      <td>0.389610</td>\n",
       "      <td>0.000000</td>\n",
       "      <td>0.118940</td>\n",
       "      <td>1.000000</td>\n",
       "      <td>0.000000</td>\n",
       "      <td>0.666667</td>\n",
       "      <td>0.064050</td>\n",
       "      <td>0.032258</td>\n",
       "      <td>0.000000</td>\n",
       "      <td>...</td>\n",
       "      <td>0.000000</td>\n",
       "      <td>0.000000</td>\n",
       "      <td>1.000000</td>\n",
       "      <td>0.000000</td>\n",
       "      <td>0.000000</td>\n",
       "      <td>0.000000</td>\n",
       "      <td>0.000000</td>\n",
       "      <td>0.000000</td>\n",
       "      <td>0.000000</td>\n",
       "      <td>1.000000</td>\n",
       "    </tr>\n",
       "    <tr>\n",
       "      <th>max</th>\n",
       "      <td>42638.000000</td>\n",
       "      <td>1.000000</td>\n",
       "      <td>1.000000</td>\n",
       "      <td>1.000000</td>\n",
       "      <td>1.000000</td>\n",
       "      <td>1.000000</td>\n",
       "      <td>1.000000</td>\n",
       "      <td>1.000000</td>\n",
       "      <td>1.000000</td>\n",
       "      <td>1.000000</td>\n",
       "      <td>...</td>\n",
       "      <td>1.000000</td>\n",
       "      <td>1.000000</td>\n",
       "      <td>1.000000</td>\n",
       "      <td>1.000000</td>\n",
       "      <td>1.000000</td>\n",
       "      <td>1.000000</td>\n",
       "      <td>1.000000</td>\n",
       "      <td>1.000000</td>\n",
       "      <td>1.000000</td>\n",
       "      <td>1.000000</td>\n",
       "    </tr>\n",
       "  </tbody>\n",
       "</table>\n",
       "<p>8 rows × 47 columns</p>\n",
       "</div>"
      ],
      "text/plain": [
       "         Unnamed: 0           age       default       balance       housing  \\\n",
       "count  42211.000000  42211.000000  42211.000000  42211.000000  42211.000000   \n",
       "mean   21323.068158      0.295544      0.017720      0.110740      0.576366   \n",
       "std    12313.621881      0.132395      0.131935      0.113933      0.494140   \n",
       "min        0.000000      0.000000      0.000000      0.000000      0.000000   \n",
       "25%    10667.500000      0.194805      0.000000      0.050019      0.000000   \n",
       "50%    21326.000000      0.272727      0.000000      0.069293      1.000000   \n",
       "75%    31994.500000      0.389610      0.000000      0.118940      1.000000   \n",
       "max    42638.000000      1.000000      1.000000      1.000000      1.000000   \n",
       "\n",
       "               loan           day      duration      campaign         pdays  \\\n",
       "count  42211.000000  42211.000000  42211.000000  42211.000000  42211.000000   \n",
       "mean       0.165407      0.494833      0.052079      0.029292      0.065688   \n",
       "std        0.371552      0.276437      0.052590      0.051036      0.171561   \n",
       "min        0.000000      0.000000      0.000000      0.000000      0.000000   \n",
       "25%        0.000000      0.233333      0.020537      0.000000      0.000000   \n",
       "50%        0.000000      0.500000      0.035990      0.016129      0.000000   \n",
       "75%        0.000000      0.666667      0.064050      0.032258      0.000000   \n",
       "max        1.000000      1.000000      1.000000      1.000000      1.000000   \n",
       "\n",
       "       ...           jun           mar           may           nov  \\\n",
       "count  ...  42211.000000  42211.000000  42211.000000  42211.000000   \n",
       "mean   ...      0.119969      0.006088      0.317595      0.090664   \n",
       "std    ...      0.324929      0.077792      0.465546      0.287133   \n",
       "min    ...      0.000000      0.000000      0.000000      0.000000   \n",
       "25%    ...      0.000000      0.000000      0.000000      0.000000   \n",
       "50%    ...      0.000000      0.000000      0.000000      0.000000   \n",
       "75%    ...      0.000000      0.000000      1.000000      0.000000   \n",
       "max    ...      1.000000      1.000000      1.000000      1.000000   \n",
       "\n",
       "                oct           sep       failure         other       success  \\\n",
       "count  42211.000000  42211.000000  42211.000000  42211.000000  42211.000000   \n",
       "mean       0.012082      0.006610      0.100448      0.035678      0.018076   \n",
       "std        0.109254      0.081032      0.300600      0.185488      0.133227   \n",
       "min        0.000000      0.000000      0.000000      0.000000      0.000000   \n",
       "25%        0.000000      0.000000      0.000000      0.000000      0.000000   \n",
       "50%        0.000000      0.000000      0.000000      0.000000      0.000000   \n",
       "75%        0.000000      0.000000      0.000000      0.000000      0.000000   \n",
       "max        1.000000      1.000000      1.000000      1.000000      1.000000   \n",
       "\n",
       "            unknown  \n",
       "count  42211.000000  \n",
       "mean       0.845798  \n",
       "std        0.361146  \n",
       "min        0.000000  \n",
       "25%        1.000000  \n",
       "50%        1.000000  \n",
       "75%        1.000000  \n",
       "max        1.000000  \n",
       "\n",
       "[8 rows x 47 columns]"
      ]
     },
     "execution_count": 4,
     "metadata": {},
     "output_type": "execute_result"
    }
   ],
   "source": [
    "data.describe()"
   ]
  },
  {
   "cell_type": "markdown",
   "id": "817cd619",
   "metadata": {},
   "source": [
    "### Разбиение датасета на обучающую и тестовую выборки"
   ]
  },
  {
   "cell_type": "code",
   "execution_count": 5,
   "id": "e6a8479e",
   "metadata": {},
   "outputs": [],
   "source": [
    "X = data.drop(['term_deposit','duration'], axis=1)\n",
    "y = data['term_deposit']\n",
    "\n",
    "X_train, X_test, y_train, y_test = train_test_split(X, y, test_size = 0.25, random_state = 42)\n",
    "N_test, _ = X_test.shape"
   ]
  },
  {
   "cell_type": "markdown",
   "id": "9e9dbe88",
   "metadata": {},
   "source": [
    "## Обучение классификатора"
   ]
  },
  {
   "cell_type": "markdown",
   "id": "38e26f5b",
   "metadata": {},
   "source": [
    "Возьмем один скрытый слой со 100 нейронами"
   ]
  },
  {
   "cell_type": "code",
   "execution_count": 6,
   "id": "9c6b6cd2",
   "metadata": {},
   "outputs": [],
   "source": [
    "mlp_model = MLPClassifier(hidden_layer_sizes = (100,),\n",
    "                          solver = 'lbfgs', \n",
    "                          activation = 'logistic',\n",
    "                          max_iter=2000,\n",
    "                          random_state = 42)\n"
   ]
  },
  {
   "cell_type": "code",
   "execution_count": 7,
   "id": "0ed0383c",
   "metadata": {},
   "outputs": [
    {
     "name": "stdout",
     "output_type": "stream",
     "text": [
      "Wall time: 1min 34s\n"
     ]
    },
    {
     "data": {
      "text/plain": [
       "MLPClassifier(activation='logistic', max_iter=2000, random_state=42,\n",
       "              solver='lbfgs')"
      ]
     },
     "execution_count": 7,
     "metadata": {},
     "output_type": "execute_result"
    }
   ],
   "source": [
    "%%time\n",
    "mlp_model.fit(X_train, y_train)"
   ]
  },
  {
   "cell_type": "markdown",
   "id": "98b83db9",
   "metadata": {},
   "source": [
    "Ошибки на обучающей и тестовой выборках:"
   ]
  },
  {
   "cell_type": "code",
   "execution_count": 8,
   "id": "aa3152d6",
   "metadata": {},
   "outputs": [
    {
     "name": "stdout",
     "output_type": "stream",
     "text": [
      "0.09270958367553225 0.09381218610821568\n"
     ]
    }
   ],
   "source": [
    "y_train_pred = mlp_model.predict(X_train)\n",
    "y_test_pred = mlp_model.predict(X_test)\n",
    "print(np.mean(y_train != y_train_pred), np.mean(y_test != y_test_pred))"
   ]
  },
  {
   "cell_type": "markdown",
   "id": "ca6f2ccd",
   "metadata": {},
   "source": [
    "Ошибка составила 9.38%, наблюдается переобучение."
   ]
  },
  {
   "cell_type": "markdown",
   "id": "1c0d6856",
   "metadata": {},
   "source": [
    "# Подбор гиперпараметров"
   ]
  },
  {
   "cell_type": "markdown",
   "id": "33d210a7",
   "metadata": {},
   "source": [
    "## Подбор оптимальное значение параметра регуляризации `alpha`"
   ]
  },
  {
   "cell_type": "code",
   "execution_count": 9,
   "id": "a4d51253",
   "metadata": {},
   "outputs": [],
   "source": [
    "alpha_arr = np.logspace(-3, 2, 21)\n",
    "test_err = []\n",
    "train_err = []\n",
    "train_acc = []\n",
    "test_acc = []\n",
    "for alpha in alpha_arr:\n",
    "    mlp_model = MLPClassifier(alpha = alpha,\n",
    "                              hidden_layer_sizes = (100,), \n",
    "                              solver = 'lbfgs',\n",
    "                              activation = 'logistic',\n",
    "                              max_iter=2000, \n",
    "                              random_state = 42)\n",
    "    mlp_model.fit(X_train, y_train)\n",
    "\n",
    "    y_train_pred = mlp_model.predict(X_train)\n",
    "    y_test_pred = mlp_model.predict(X_test)\n",
    "    train_err.append(np.mean(y_train != y_train_pred))\n",
    "    test_err.append(np.mean(y_test != y_test_pred))\n",
    "    train_acc.append(accuracy_score(y_train, y_train_pred))\n",
    "    test_acc.append(accuracy_score(y_test, y_test_pred))"
   ]
  },
  {
   "cell_type": "code",
   "execution_count": 49,
   "id": "0972f91a",
   "metadata": {},
   "outputs": [
    {
     "data": {
      "image/png": "[encoded data removed]",
      "text/plain": [
       "<Figure size 432x288 with 1 Axes>"
      ]
     },
     "metadata": {
      "needs_background": "light"
     },
     "output_type": "display_data"
    }
   ],
   "source": [
    "plt.semilogx(alpha_arr, train_err, 'b-o', label = 'train')\n",
    "plt.semilogx(alpha_arr, test_err, 'r-o', label = 'test')\n",
    "plt.xlim([np.max(alpha_arr), np.min(alpha_arr)])\n",
    "plt.title('Error vs. alpha')\n",
    "plt.xlabel('alpha')\n",
    "plt.ylabel('error')\n",
    "plt.legend()\n",
    "pass"
   ]
  },
  {
   "cell_type": "markdown",
   "id": "3004f9f8",
   "metadata": {},
   "source": [
    "Рассмотрим как менялась метрика в зависимости от гиперпараметра:"
   ]
  },
  {
   "cell_type": "code",
   "execution_count": 11,
   "id": "d7d2269e",
   "metadata": {},
   "outputs": [
    {
     "data": {
      "text/plain": [
       "<matplotlib.legend.Legend at 0x18d3f8c25e0>"
      ]
     },
     "execution_count": 11,
     "metadata": {},
     "output_type": "execute_result"
    },
    {
     "data": {
      "image/png": "[encoded data removed]",
      "text/plain": [
       "<Figure size 432x288 with 1 Axes>"
      ]
     },
     "metadata": {
      "needs_background": "light"
     },
     "output_type": "display_data"
    }
   ],
   "source": [
    "plt.semilogx(alpha_arr, train_acc, 'r-o', label = 'train')\n",
    "plt.semilogx(alpha_arr, test_acc, 'b-o', label = 'test')\n",
    "plt.xlim([np.min(alpha_arr), np.max(alpha_arr)])\n",
    "plt.title('Accuracy vs. alpha')\n",
    "plt.xlabel('alpha')\n",
    "plt.ylabel('Accuracy')\n",
    "plt.legend()"
   ]
  },
  {
   "cell_type": "markdown",
   "id": "8016762f",
   "metadata": {},
   "source": [
    "Минимальное значение ошибки:"
   ]
  },
  {
   "cell_type": "code",
   "execution_count": 12,
   "id": "67795e83",
   "metadata": {},
   "outputs": [
    {
     "name": "stdout",
     "output_type": "stream",
     "text": [
      "0.0908775033166972 0.09134843172557566\n"
     ]
    }
   ],
   "source": [
    "min_train_err = np.min(train_err)\n",
    "min_test_err = np.min(test_err)\n",
    "print(min_train_err, min_test_err)"
   ]
  },
  {
   "cell_type": "markdown",
   "id": "cbf64779",
   "metadata": {},
   "source": [
    "Оптимальное значение `alpha`:"
   ]
  },
  {
   "cell_type": "code",
   "execution_count": 13,
   "id": "e721ffe6",
   "metadata": {},
   "outputs": [
    {
     "name": "stdout",
     "output_type": "stream",
     "text": [
      "[0.31622777]\n"
     ]
    }
   ],
   "source": [
    "alpha_opt = alpha_arr[test_err == min_test_err]\n",
    "print(alpha_opt)"
   ]
  },
  {
   "cell_type": "code",
   "execution_count": 14,
   "id": "8d95f668",
   "metadata": {},
   "outputs": [
    {
     "data": {
      "text/plain": [
       "0.31622776601683794"
      ]
     },
     "execution_count": 14,
     "metadata": {},
     "output_type": "execute_result"
    }
   ],
   "source": [
    "alpha_opt = alpha_opt[0]\n",
    "alpha_opt"
   ]
  },
  {
   "cell_type": "markdown",
   "id": "6a2456ca",
   "metadata": {},
   "source": [
    "Повторим обучение при найденном оптимальном значении `alpha`:"
   ]
  },
  {
   "cell_type": "code",
   "execution_count": 15,
   "id": "37c0bd4c",
   "metadata": {},
   "outputs": [
    {
     "name": "stdout",
     "output_type": "stream",
     "text": [
      "0.0908775033166972\n",
      "0.09134843172557566\n"
     ]
    }
   ],
   "source": [
    "mlp_model = MLPClassifier(alpha = alpha_opt,\n",
    "                          hidden_layer_sizes = (100,), \n",
    "                          solver = 'lbfgs',\n",
    "                          activation = 'logistic', \n",
    "                          max_iter=2000, \n",
    "                          random_state = 42)\n",
    "mlp_model.fit(X_train, y_train)\n",
    "\n",
    "y_train_pred = mlp_model.predict(X_train)\n",
    "y_test_pred = mlp_model.predict(X_test)\n",
    "print(np.mean(y_train != y_train_pred))\n",
    "print(np.mean(y_test != y_test_pred))"
   ]
  },
  {
   "cell_type": "markdown",
   "id": "433369c6",
   "metadata": {},
   "source": [
    "Значение ошибки улучшилось с 9.38% до 9.13%"
   ]
  },
  {
   "cell_type": "markdown",
   "id": "d69aa35d",
   "metadata": {},
   "source": [
    "## Подбор оптимального числа нейронов"
   ]
  },
  {
   "cell_type": "markdown",
   "id": "1e8bc17d",
   "metadata": {},
   "source": [
    "Теперь определим оптимальное число нейронов при одном скрытом слое."
   ]
  },
  {
   "cell_type": "code",
   "execution_count": 18,
   "id": "1a511a52",
   "metadata": {},
   "outputs": [],
   "source": [
    "import time\n",
    "from sklearn.neural_network import MLPClassifier\n",
    "neurons_arr = [\n",
    "    (10,), (20,), (50,), (100,), (200,),\n",
    "    (10, 10), (20, 10), (100, 10),\n",
    "    (10, 10, 5), (20, 10, 5), (100, 10, 10)\n",
    "]\n",
    "test_err = []\n",
    "train_err = []\n",
    "train_acc = []\n",
    "test_acc = []\n",
    "\n",
    "for neurons in neurons_arr:\n",
    "    start = time.time()\n",
    "    mlp_model = MLPClassifier(alpha = alpha_opt,\n",
    "                              hidden_layer_sizes = neurons, \n",
    "                              solver = 'lbfgs',\n",
    "                              activation = 'logistic',\n",
    "                              max_iter=2000,\n",
    "                              random_state = 42)\n",
    "    mlp_model.fit(X_train, y_train)\n",
    "\n",
    "    y_train_pred = mlp_model.predict(X_train)\n",
    "    y_test_pred = mlp_model.predict(X_test)\n",
    "    \n",
    "    train_err.append(np.mean(y_train != y_train_pred))\n",
    "    test_err.append(np.mean(y_test != y_test_pred))\n",
    "    train_acc.append(accuracy_score(y_train, y_train_pred))\n",
    "    test_acc.append(accuracy_score(y_test, y_test_pred))"
   ]
  },
  {
   "cell_type": "code",
   "execution_count": 21,
   "id": "7ea93f78",
   "metadata": {
    "scrolled": true
   },
   "outputs": [
    {
     "data": {
      "image/png": "[encoded data removed]",
      "text/plain": [
       "<Figure size 432x288 with 1 Axes>"
      ]
     },
     "metadata": {
      "needs_background": "light"
     },
     "output_type": "display_data"
    }
   ],
   "source": [
    "x_neuron = list(range(len(neurons_arr)))\n",
    "plt.plot(x_neuron, train_err, 'b-o', label = 'train')\n",
    "plt.plot(x_neuron, test_err, 'r-o', label = 'test')\n",
    "plt.xticks(x_neuron, [str(i) for i in neurons_arr])\n",
    "plt.gcf().autofmt_xdate()\n",
    "plt.title('Error vs. neurons')\n",
    "plt.xlabel('neurons')\n",
    "plt.ylabel('error')\n",
    "plt.legend()\n",
    "pass"
   ]
  },
  {
   "cell_type": "code",
   "execution_count": 22,
   "id": "4807e5f8",
   "metadata": {},
   "outputs": [
    {
     "data": {
      "image/png": "[encoded data removed]",
      "text/plain": [
       "<Figure size 432x288 with 1 Axes>"
      ]
     },
     "metadata": {
      "needs_background": "light"
     },
     "output_type": "display_data"
    }
   ],
   "source": [
    "x_neuron = list(range(len(neurons_arr)))\n",
    "plt.plot(x_neuron, train_acc, 'b-o', label = 'train')\n",
    "plt.plot(x_neuron, test_acc, 'r-o', label = 'test')\n",
    "plt.xticks(x_neuron, [str(i) for i in neurons_arr])\n",
    "plt.gcf().autofmt_xdate()\n",
    "plt.title('Accuracy vs. neuron')\n",
    "plt.xlabel('neuron')\n",
    "plt.ylabel('accuracy')\n",
    "plt.legend()\n",
    "pass"
   ]
  },
  {
   "cell_type": "code",
   "execution_count": 24,
   "id": "0c21b409",
   "metadata": {},
   "outputs": [
    {
     "name": "stdout",
     "output_type": "stream",
     "text": [
      "0.0908775033166972 0.09134843172557566\n"
     ]
    }
   ],
   "source": [
    "min_train_err = np.min(train_err)\n",
    "min_test_err = np.min(test_err)\n",
    "print(min_train_err, min_test_err)"
   ]
  },
  {
   "cell_type": "code",
   "execution_count": 25,
   "id": "c72b3faf",
   "metadata": {},
   "outputs": [
    {
     "name": "stdout",
     "output_type": "stream",
     "text": [
      "[0.09381218610821568, 0.09381218610821568, 0.09381218610821568, 0.09134843172557566, 0.09381218610821568, 0.09381218610821568, 0.09381218610821568, 0.09381218610821568, 0.09381218610821568, 0.09381218610821568, 0.09381218610821568]\n",
      "0.09134843172557566\n",
      "(100,)\n"
     ]
    }
   ],
   "source": [
    "print(test_err)\n",
    "print(min_test_err)\n",
    "idx=-1\n",
    "for i in range(0, len(test_err)-1):\n",
    "    if min_test_err == test_err[i]:\n",
    "        idx = i\n",
    "        break\n",
    "neurons_opt = neurons_arr[idx]\n",
    "print(neurons_opt)"
   ]
  },
  {
   "cell_type": "markdown",
   "id": "58ab7c84",
   "metadata": {},
   "source": [
    "Видно что наименьшая ошибка на тестовой выборке равна 0.091348. И она наблюдается, когда есть один скрытый слой со 100 нейронами"
   ]
  },
  {
   "cell_type": "code",
   "execution_count": 26,
   "id": "0c573f2c",
   "metadata": {},
   "outputs": [
    {
     "name": "stdout",
     "output_type": "stream",
     "text": [
      "0.0908775033166972\n",
      "0.09134843172557566\n"
     ]
    }
   ],
   "source": [
    "mlp_model = MLPClassifier(alpha = alpha_opt,\n",
    "                          hidden_layer_sizes = neurons_opt, \n",
    "                          solver = 'lbfgs',\n",
    "                          activation = 'logistic',\n",
    "                          max_iter=2000,\n",
    "                          random_state = 42)\n",
    "mlp_model.fit(X_train, y_train)\n",
    "\n",
    "\n",
    "y_train_pred = mlp_model.predict(X_train)\n",
    "y_test_pred = mlp_model.predict(X_test)\n",
    "print(np.mean(y_train != y_train_pred))\n",
    "print(np.mean(y_test != y_test_pred))"
   ]
  },
  {
   "cell_type": "markdown",
   "id": "c0f497d5",
   "metadata": {},
   "source": [
    "Найдем также оптимальное значение alpha при заданном числе нейронов."
   ]
  },
  {
   "cell_type": "code",
   "execution_count": 33,
   "id": "94699d43",
   "metadata": {},
   "outputs": [],
   "source": [
    "alpha_arr = np.logspace(-3, 2, 21)\n",
    "test_err = []\n",
    "train_err = []\n",
    "for alpha in alpha_arr:\n",
    "    mlp_model = MLPClassifier(alpha = alpha,\n",
    "                              hidden_layer_sizes = neurons_opt, \n",
    "                              solver = 'lbfgs',\n",
    "                              activation = 'logistic',\n",
    "                              max_iter=2000,\n",
    "                              random_state = 42)\n",
    "    mlp_model.fit(X_train, y_train)\n",
    "\n",
    "    y_train_pred = mlp_model.predict(X_train)\n",
    "    y_test_pred = mlp_model.predict(X_test)\n",
    "    train_err.append(np.mean(y_train != y_train_pred))\n",
    "    test_err.append(np.mean(y_test != y_test_pred))"
   ]
  },
  {
   "cell_type": "code",
   "execution_count": 35,
   "id": "49fd70c4",
   "metadata": {},
   "outputs": [
    {
     "data": {
      "image/png": "[encoded data removed]",
      "text/plain": [
       "<Figure size 432x288 with 1 Axes>"
      ]
     },
     "metadata": {
      "needs_background": "light"
     },
     "output_type": "display_data"
    }
   ],
   "source": [
    "plt.semilogx(alpha_arr, train_err, 'b-o', label = 'test')\n",
    "plt.semilogx(alpha_arr, test_err, 'r-o', label = 'train')\n",
    "plt.xlim([np.max(alpha_arr), np.min(alpha_arr)])\n",
    "plt.title('Error vs. alpha')\n",
    "plt.xlabel('alpha')\n",
    "plt.ylabel('error')\n",
    "plt.legend()\n",
    "pass"
   ]
  },
  {
   "cell_type": "code",
   "execution_count": 36,
   "id": "30f57b3a",
   "metadata": {},
   "outputs": [
    {
     "name": "stdout",
     "output_type": "stream",
     "text": [
      "0.0908775033166972 0.09134843172557566\n"
     ]
    }
   ],
   "source": [
    "min_train_err = np.min(train_err)\n",
    "min_test_err = np.min(test_err)\n",
    "print(min_train_err, min_test_err)"
   ]
  },
  {
   "cell_type": "code",
   "execution_count": 37,
   "id": "6eb8af34",
   "metadata": {},
   "outputs": [
    {
     "name": "stdout",
     "output_type": "stream",
     "text": [
      "[0.31622777]\n"
     ]
    }
   ],
   "source": [
    "alpha_opt = alpha_arr[test_err == min_test_err]\n",
    "print(alpha_opt)"
   ]
  },
  {
   "cell_type": "markdown",
   "id": "72f01525",
   "metadata": {},
   "source": [
    "## Обучение с оптимальными параметрами"
   ]
  },
  {
   "cell_type": "code",
   "execution_count": 38,
   "id": "f7b86557",
   "metadata": {},
   "outputs": [],
   "source": [
    "mlp_model = MLPClassifier(hidden_layer_sizes = (100,),\n",
    "                          alpha=alpha_opt,\n",
    "                          solver = 'lbfgs', \n",
    "                          activation = 'logistic',\n",
    "                          max_iter=2000,\n",
    "                          random_state = 42,)"
   ]
  },
  {
   "cell_type": "code",
   "execution_count": 39,
   "id": "f0154e8a",
   "metadata": {},
   "outputs": [
    {
     "data": {
      "text/plain": [
       "MLPClassifier(activation='logistic', alpha=array([0.31622777]), max_iter=2000,\n",
       "              random_state=42, solver='lbfgs')"
      ]
     },
     "execution_count": 39,
     "metadata": {},
     "output_type": "execute_result"
    }
   ],
   "source": [
    "mlp_model.fit(X_train, y_train)"
   ]
  },
  {
   "cell_type": "markdown",
   "id": "7872922c",
   "metadata": {},
   "source": [
    "Ошибки на тестовой выборке:"
   ]
  },
  {
   "cell_type": "code",
   "execution_count": 40,
   "id": "766ad15b",
   "metadata": {},
   "outputs": [
    {
     "data": {
      "text/plain": [
       "0.09134843172557566"
      ]
     },
     "execution_count": 40,
     "metadata": {},
     "output_type": "execute_result"
    }
   ],
   "source": [
    "y_test_predict = mlp_model.predict(X_test)\n",
    "err_test  = np.mean(y_test  != y_test_predict)\n",
    "err_test"
   ]
  },
  {
   "cell_type": "markdown",
   "id": "d98246fe",
   "metadata": {},
   "source": [
    "Ошибки на тренировочной выборке:"
   ]
  },
  {
   "cell_type": "code",
   "execution_count": 41,
   "id": "46e61b44",
   "metadata": {},
   "outputs": [
    {
     "data": {
      "text/plain": [
       "0.0908775033166972"
      ]
     },
     "execution_count": 41,
     "metadata": {},
     "output_type": "execute_result"
    }
   ],
   "source": [
    "y_train_predict = mlp_model.predict(X_train)\n",
    "err_train  = np.mean(y_train  != y_train_predict)\n",
    "err_train"
   ]
  },
  {
   "cell_type": "code",
   "execution_count": 42,
   "id": "8bfd2a16",
   "metadata": {},
   "outputs": [
    {
     "data": {
      "text/plain": [
       "(0.9086515682744243, 0.9091224966833028)"
      ]
     },
     "execution_count": 42,
     "metadata": {},
     "output_type": "execute_result"
    }
   ],
   "source": [
    "1-err_test, 1-err_train"
   ]
  },
  {
   "cell_type": "code",
   "execution_count": 47,
   "id": "3f446c26",
   "metadata": {},
   "outputs": [
    {
     "name": "stdout",
     "output_type": "stream",
     "text": [
      "[[9545  946]\n",
      " [  18   44]]\n"
     ]
    }
   ],
   "source": [
    "from sklearn.metrics import confusion_matrix\n",
    "print(confusion_matrix(y_test_predict, y_test))"
   ]
  },
  {
   "cell_type": "code",
   "execution_count": 48,
   "id": "2e45a423",
   "metadata": {},
   "outputs": [
    {
     "data": {
      "image/png": "[encoded data removed]",
      "text/plain": [
       "<Figure size 432x288 with 2 Axes>"
      ]
     },
     "metadata": {
      "needs_background": "light"
     },
     "output_type": "display_data"
    }
   ],
   "source": [
    "M = confusion_matrix(y_test_pred, y_test)\n",
    "M = np.sqrt(M)\n",
    "plt.imshow(M, interpolation = 'nearest')\n",
    "plt.set_cmap('binary')\n",
    "plt.xticks(range(2))\n",
    "plt.yticks(range(2))\n",
    "plt.xlabel(\"true label\")\n",
    "plt.ylabel(\"predicted label\")\n",
    "plt.colorbar()\n",
    "pass"
   ]
  },
  {
   "cell_type": "markdown",
   "id": "26c78a9a",
   "metadata": {},
   "source": [
    "## Выводы"
   ]
  },
  {
   "cell_type": "markdown",
   "id": "4f864a48",
   "metadata": {},
   "source": [
    "В данной лабораторной работе найдены оптимальные параметры по точности и времени обучения - 1 слой с 100 нейронами. При различных значенях нейронов получали малое изменение точности, следовательно, никакой явной зависимости точности от этих параметров, т.е. можно сказать, что коэффициенты почти не влияют на точность. "
   ]
  }
 ],
 "metadata": {
  "kernelspec": {
   "display_name": "Python 3",
   "language": "python",
   "name": "python3"
  },
  "language_info": {
   "codemirror_mode": {
    "name": "ipython",
    "version": 3
   },
   "file_extension": ".py",
   "mimetype": "text/x-python",
   "name": "python",
   "nbconvert_exporter": "python",
   "pygments_lexer": "ipython3",
   "version": "3.8.8"
  }
 },
 "nbformat": 4,
 "nbformat_minor": 5
}
